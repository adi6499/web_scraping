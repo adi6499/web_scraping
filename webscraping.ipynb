{
 "cells": [
  {
   "cell_type": "code",
   "execution_count": 3,
   "id": "67d70d88",
   "metadata": {},
   "outputs": [],
   "source": [
    "import pandas as pd\n",
    "import requests\n",
    "from bs4 import BeautifulSoup\n",
    "import time\n",
    "\n",
    "\n",
    "url = \"https://www.flipkart.com/search?q={}%20phone&otracker=search&otracker1=search&marketplace=FLIPKART&as-show=on&as=on\"\n",
    "names = ['samsung','nothing','apple','moto','redmi','xiaomi','lenovo','vivo','oppo','cmf']\n",
    "headers = {\n",
    "    'User-Agent': 'Mozilla/5.0 (Windows NT 10.0; Win64; x64) AppleWebKit/537.36'\n",
    "}\n",
    "datas = []\n",
    "for i in names:\n",
    "    time.sleep(1)\n",
    "    naming = url.format(i)\n",
    "    response = requests.get(naming,headers=headers)\n",
    "    soup = BeautifulSoup(response.content,\"html.parser\")\n",
    "    heading = soup.find_all(\"div\",class_='KzDlHZ')\n",
    "    price = soup.find_all(\"div\",class_=\"Nx9bqj _4b5DiR\")\n",
    "    info = soup.find_all(\"div\",class_='_6NESgJ')\n",
    "    image = soup.find_all(\"img\",class_='DByuf4')\n",
    "    \n",
    "    for h, p, i, img in zip(heading, price, info, image):\n",
    "        product_data = {\n",
    "            \"head\": h.text,\n",
    "            \"price\": p.text,\n",
    "            \"info\": i.text,\n",
    "            \"image\": img.get(\"src\")\n",
    "        }\n",
    "        datas.append(product_data)\n",
    "\n",
    "df = pd.DataFrame(datas)\n",
    "df.to_json('products_split.json', orient='records', indent=4, force_ascii=False)"
   ]
  }
 ],
 "metadata": {
  "kernelspec": {
   "display_name": "Python 3",
   "language": "python",
   "name": "python3"
  },
  "language_info": {
   "codemirror_mode": {
    "name": "ipython",
    "version": 3
   },
   "file_extension": ".py",
   "mimetype": "text/x-python",
   "name": "python",
   "nbconvert_exporter": "python",
   "pygments_lexer": "ipython3",
   "version": "3.12.10"
  }
 },
 "nbformat": 4,
 "nbformat_minor": 5
}
